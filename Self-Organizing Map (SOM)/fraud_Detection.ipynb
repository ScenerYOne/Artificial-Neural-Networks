{
 "cells": [
  {
   "cell_type": "code",
   "id": "initial_id",
   "metadata": {
    "collapsed": true,
    "id": "initial_id",
    "ExecuteTime": {
     "end_time": "2024-09-07T06:12:13.883788Z",
     "start_time": "2024-09-07T06:12:13.880860Z"
    }
   },
   "source": [
    "import numpy as np\n",
    "import matplotlib.pyplot as plt\n",
    "import pandas as pd\n",
    "from networkx.algorithms.bipartite import color"
   ],
   "outputs": [],
   "execution_count": 15
  },
  {
   "metadata": {
    "id": "ed0472b4fa1c6d5a",
    "ExecuteTime": {
     "end_time": "2024-09-07T06:12:13.904300Z",
     "start_time": "2024-09-07T06:12:13.897511Z"
    }
   },
   "cell_type": "code",
   "source": "dataset = pd.read_csv('D:/Artificial Neural Networks/Self-Organizing Map (SOM)/Data/Credit_Card_Applications.csv')",
   "id": "ed0472b4fa1c6d5a",
   "outputs": [],
   "execution_count": 16
  },
  {
   "metadata": {
    "colab": {
     "base_uri": "https://localhost:8080/",
     "height": 677
    },
    "id": "aa46b130d53385a0",
    "outputId": "31b8de14-0725-469a-b06b-ba0354081d0a",
    "ExecuteTime": {
     "end_time": "2024-09-07T06:12:13.984091Z",
     "start_time": "2024-09-07T06:12:13.972815Z"
    }
   },
   "cell_type": "code",
   "source": [
    "dataset.tail(20)"
   ],
   "id": "aa46b130d53385a0",
   "outputs": [
    {
     "data": {
      "text/plain": [
       "     CustomerID  A1     A2      A3  A4  A5  A6     A7  A8  A9  A10  A11  A12  \\\n",
       "670    15672357   0  37.75   5.500   2  11   4  0.125   1   0    0    1    2   \n",
       "671    15711759   1  22.67   2.540   1   8   8  2.585   1   0    0    0    2   \n",
       "672    15615296   0  17.92  10.210   2   1   1  0.000   0   0    0    0    2   \n",
       "673    15699294   1  24.42  12.335   2  11   8  1.585   1   0    0    1    2   \n",
       "674    15788634   0  25.75   0.500   2   8   8  0.875   1   0    0    1    2   \n",
       "675    15660871   1  26.17  12.500   1   4   8  1.250   0   0    0    1    2   \n",
       "676    15618258   0  22.75   6.165   2   6   4  0.165   0   0    0    0    2   \n",
       "677    15722535   1  23.00   0.750   2   7   4  0.500   1   0    0    1    1   \n",
       "678    15711977   1  25.67   0.290   1   8   4  1.500   0   0    0    1    2   \n",
       "679    15690169   1  48.58   0.205   1   4   4  0.250   1   1   11    0    2   \n",
       "680    15790689   1  21.17   0.000   2   8   4  0.500   0   0    0    1    1   \n",
       "681    15665181   1  35.25  16.500   1   8   4  4.000   1   0    0    0    2   \n",
       "682    15633608   0  22.92  11.585   2  13   4  0.040   1   0    0    0    2   \n",
       "683    15805261   0  48.17   1.335   2   3   7  0.335   0   0    0    0    2   \n",
       "684    15740356   1  43.00   0.290   1  13   8  1.750   1   1    8    0    2   \n",
       "685    15808223   1  31.57  10.500   2  14   4  6.500   1   0    0    0    2   \n",
       "686    15769980   1  20.67   0.415   2   8   4  0.125   0   0    0    0    2   \n",
       "687    15675450   0  18.83   9.540   2   6   4  0.085   1   0    0    0    2   \n",
       "688    15776494   0  27.42  14.500   2  14   8  3.085   1   1    1    0    2   \n",
       "689    15592412   1  41.00   0.040   2  10   4  0.040   0   1    1    0    1   \n",
       "\n",
       "     A13   A14  Class  \n",
       "670  228     1      1  \n",
       "671    0     1      1  \n",
       "672    0    51      0  \n",
       "673  120     1      1  \n",
       "674  491     1      1  \n",
       "675    0    18      0  \n",
       "676  220  1001      0  \n",
       "677  320     1      0  \n",
       "678  160     1      0  \n",
       "679  380  2733      1  \n",
       "680    0     1      0  \n",
       "681   80     1      0  \n",
       "682   80  1350      1  \n",
       "683    0   121      0  \n",
       "684  100   376      1  \n",
       "685    0     1      1  \n",
       "686    0    45      0  \n",
       "687  100     1      1  \n",
       "688  120    12      1  \n",
       "689  560     1      1  "
      ],
      "text/html": [
       "<div>\n",
       "<style scoped>\n",
       "    .dataframe tbody tr th:only-of-type {\n",
       "        vertical-align: middle;\n",
       "    }\n",
       "\n",
       "    .dataframe tbody tr th {\n",
       "        vertical-align: top;\n",
       "    }\n",
       "\n",
       "    .dataframe thead th {\n",
       "        text-align: right;\n",
       "    }\n",
       "</style>\n",
       "<table border=\"1\" class=\"dataframe\">\n",
       "  <thead>\n",
       "    <tr style=\"text-align: right;\">\n",
       "      <th></th>\n",
       "      <th>CustomerID</th>\n",
       "      <th>A1</th>\n",
       "      <th>A2</th>\n",
       "      <th>A3</th>\n",
       "      <th>A4</th>\n",
       "      <th>A5</th>\n",
       "      <th>A6</th>\n",
       "      <th>A7</th>\n",
       "      <th>A8</th>\n",
       "      <th>A9</th>\n",
       "      <th>A10</th>\n",
       "      <th>A11</th>\n",
       "      <th>A12</th>\n",
       "      <th>A13</th>\n",
       "      <th>A14</th>\n",
       "      <th>Class</th>\n",
       "    </tr>\n",
       "  </thead>\n",
       "  <tbody>\n",
       "    <tr>\n",
       "      <th>670</th>\n",
       "      <td>15672357</td>\n",
       "      <td>0</td>\n",
       "      <td>37.75</td>\n",
       "      <td>5.500</td>\n",
       "      <td>2</td>\n",
       "      <td>11</td>\n",
       "      <td>4</td>\n",
       "      <td>0.125</td>\n",
       "      <td>1</td>\n",
       "      <td>0</td>\n",
       "      <td>0</td>\n",
       "      <td>1</td>\n",
       "      <td>2</td>\n",
       "      <td>228</td>\n",
       "      <td>1</td>\n",
       "      <td>1</td>\n",
       "    </tr>\n",
       "    <tr>\n",
       "      <th>671</th>\n",
       "      <td>15711759</td>\n",
       "      <td>1</td>\n",
       "      <td>22.67</td>\n",
       "      <td>2.540</td>\n",
       "      <td>1</td>\n",
       "      <td>8</td>\n",
       "      <td>8</td>\n",
       "      <td>2.585</td>\n",
       "      <td>1</td>\n",
       "      <td>0</td>\n",
       "      <td>0</td>\n",
       "      <td>0</td>\n",
       "      <td>2</td>\n",
       "      <td>0</td>\n",
       "      <td>1</td>\n",
       "      <td>1</td>\n",
       "    </tr>\n",
       "    <tr>\n",
       "      <th>672</th>\n",
       "      <td>15615296</td>\n",
       "      <td>0</td>\n",
       "      <td>17.92</td>\n",
       "      <td>10.210</td>\n",
       "      <td>2</td>\n",
       "      <td>1</td>\n",
       "      <td>1</td>\n",
       "      <td>0.000</td>\n",
       "      <td>0</td>\n",
       "      <td>0</td>\n",
       "      <td>0</td>\n",
       "      <td>0</td>\n",
       "      <td>2</td>\n",
       "      <td>0</td>\n",
       "      <td>51</td>\n",
       "      <td>0</td>\n",
       "    </tr>\n",
       "    <tr>\n",
       "      <th>673</th>\n",
       "      <td>15699294</td>\n",
       "      <td>1</td>\n",
       "      <td>24.42</td>\n",
       "      <td>12.335</td>\n",
       "      <td>2</td>\n",
       "      <td>11</td>\n",
       "      <td>8</td>\n",
       "      <td>1.585</td>\n",
       "      <td>1</td>\n",
       "      <td>0</td>\n",
       "      <td>0</td>\n",
       "      <td>1</td>\n",
       "      <td>2</td>\n",
       "      <td>120</td>\n",
       "      <td>1</td>\n",
       "      <td>1</td>\n",
       "    </tr>\n",
       "    <tr>\n",
       "      <th>674</th>\n",
       "      <td>15788634</td>\n",
       "      <td>0</td>\n",
       "      <td>25.75</td>\n",
       "      <td>0.500</td>\n",
       "      <td>2</td>\n",
       "      <td>8</td>\n",
       "      <td>8</td>\n",
       "      <td>0.875</td>\n",
       "      <td>1</td>\n",
       "      <td>0</td>\n",
       "      <td>0</td>\n",
       "      <td>1</td>\n",
       "      <td>2</td>\n",
       "      <td>491</td>\n",
       "      <td>1</td>\n",
       "      <td>1</td>\n",
       "    </tr>\n",
       "    <tr>\n",
       "      <th>675</th>\n",
       "      <td>15660871</td>\n",
       "      <td>1</td>\n",
       "      <td>26.17</td>\n",
       "      <td>12.500</td>\n",
       "      <td>1</td>\n",
       "      <td>4</td>\n",
       "      <td>8</td>\n",
       "      <td>1.250</td>\n",
       "      <td>0</td>\n",
       "      <td>0</td>\n",
       "      <td>0</td>\n",
       "      <td>1</td>\n",
       "      <td>2</td>\n",
       "      <td>0</td>\n",
       "      <td>18</td>\n",
       "      <td>0</td>\n",
       "    </tr>\n",
       "    <tr>\n",
       "      <th>676</th>\n",
       "      <td>15618258</td>\n",
       "      <td>0</td>\n",
       "      <td>22.75</td>\n",
       "      <td>6.165</td>\n",
       "      <td>2</td>\n",
       "      <td>6</td>\n",
       "      <td>4</td>\n",
       "      <td>0.165</td>\n",
       "      <td>0</td>\n",
       "      <td>0</td>\n",
       "      <td>0</td>\n",
       "      <td>0</td>\n",
       "      <td>2</td>\n",
       "      <td>220</td>\n",
       "      <td>1001</td>\n",
       "      <td>0</td>\n",
       "    </tr>\n",
       "    <tr>\n",
       "      <th>677</th>\n",
       "      <td>15722535</td>\n",
       "      <td>1</td>\n",
       "      <td>23.00</td>\n",
       "      <td>0.750</td>\n",
       "      <td>2</td>\n",
       "      <td>7</td>\n",
       "      <td>4</td>\n",
       "      <td>0.500</td>\n",
       "      <td>1</td>\n",
       "      <td>0</td>\n",
       "      <td>0</td>\n",
       "      <td>1</td>\n",
       "      <td>1</td>\n",
       "      <td>320</td>\n",
       "      <td>1</td>\n",
       "      <td>0</td>\n",
       "    </tr>\n",
       "    <tr>\n",
       "      <th>678</th>\n",
       "      <td>15711977</td>\n",
       "      <td>1</td>\n",
       "      <td>25.67</td>\n",
       "      <td>0.290</td>\n",
       "      <td>1</td>\n",
       "      <td>8</td>\n",
       "      <td>4</td>\n",
       "      <td>1.500</td>\n",
       "      <td>0</td>\n",
       "      <td>0</td>\n",
       "      <td>0</td>\n",
       "      <td>1</td>\n",
       "      <td>2</td>\n",
       "      <td>160</td>\n",
       "      <td>1</td>\n",
       "      <td>0</td>\n",
       "    </tr>\n",
       "    <tr>\n",
       "      <th>679</th>\n",
       "      <td>15690169</td>\n",
       "      <td>1</td>\n",
       "      <td>48.58</td>\n",
       "      <td>0.205</td>\n",
       "      <td>1</td>\n",
       "      <td>4</td>\n",
       "      <td>4</td>\n",
       "      <td>0.250</td>\n",
       "      <td>1</td>\n",
       "      <td>1</td>\n",
       "      <td>11</td>\n",
       "      <td>0</td>\n",
       "      <td>2</td>\n",
       "      <td>380</td>\n",
       "      <td>2733</td>\n",
       "      <td>1</td>\n",
       "    </tr>\n",
       "    <tr>\n",
       "      <th>680</th>\n",
       "      <td>15790689</td>\n",
       "      <td>1</td>\n",
       "      <td>21.17</td>\n",
       "      <td>0.000</td>\n",
       "      <td>2</td>\n",
       "      <td>8</td>\n",
       "      <td>4</td>\n",
       "      <td>0.500</td>\n",
       "      <td>0</td>\n",
       "      <td>0</td>\n",
       "      <td>0</td>\n",
       "      <td>1</td>\n",
       "      <td>1</td>\n",
       "      <td>0</td>\n",
       "      <td>1</td>\n",
       "      <td>0</td>\n",
       "    </tr>\n",
       "    <tr>\n",
       "      <th>681</th>\n",
       "      <td>15665181</td>\n",
       "      <td>1</td>\n",
       "      <td>35.25</td>\n",
       "      <td>16.500</td>\n",
       "      <td>1</td>\n",
       "      <td>8</td>\n",
       "      <td>4</td>\n",
       "      <td>4.000</td>\n",
       "      <td>1</td>\n",
       "      <td>0</td>\n",
       "      <td>0</td>\n",
       "      <td>0</td>\n",
       "      <td>2</td>\n",
       "      <td>80</td>\n",
       "      <td>1</td>\n",
       "      <td>0</td>\n",
       "    </tr>\n",
       "    <tr>\n",
       "      <th>682</th>\n",
       "      <td>15633608</td>\n",
       "      <td>0</td>\n",
       "      <td>22.92</td>\n",
       "      <td>11.585</td>\n",
       "      <td>2</td>\n",
       "      <td>13</td>\n",
       "      <td>4</td>\n",
       "      <td>0.040</td>\n",
       "      <td>1</td>\n",
       "      <td>0</td>\n",
       "      <td>0</td>\n",
       "      <td>0</td>\n",
       "      <td>2</td>\n",
       "      <td>80</td>\n",
       "      <td>1350</td>\n",
       "      <td>1</td>\n",
       "    </tr>\n",
       "    <tr>\n",
       "      <th>683</th>\n",
       "      <td>15805261</td>\n",
       "      <td>0</td>\n",
       "      <td>48.17</td>\n",
       "      <td>1.335</td>\n",
       "      <td>2</td>\n",
       "      <td>3</td>\n",
       "      <td>7</td>\n",
       "      <td>0.335</td>\n",
       "      <td>0</td>\n",
       "      <td>0</td>\n",
       "      <td>0</td>\n",
       "      <td>0</td>\n",
       "      <td>2</td>\n",
       "      <td>0</td>\n",
       "      <td>121</td>\n",
       "      <td>0</td>\n",
       "    </tr>\n",
       "    <tr>\n",
       "      <th>684</th>\n",
       "      <td>15740356</td>\n",
       "      <td>1</td>\n",
       "      <td>43.00</td>\n",
       "      <td>0.290</td>\n",
       "      <td>1</td>\n",
       "      <td>13</td>\n",
       "      <td>8</td>\n",
       "      <td>1.750</td>\n",
       "      <td>1</td>\n",
       "      <td>1</td>\n",
       "      <td>8</td>\n",
       "      <td>0</td>\n",
       "      <td>2</td>\n",
       "      <td>100</td>\n",
       "      <td>376</td>\n",
       "      <td>1</td>\n",
       "    </tr>\n",
       "    <tr>\n",
       "      <th>685</th>\n",
       "      <td>15808223</td>\n",
       "      <td>1</td>\n",
       "      <td>31.57</td>\n",
       "      <td>10.500</td>\n",
       "      <td>2</td>\n",
       "      <td>14</td>\n",
       "      <td>4</td>\n",
       "      <td>6.500</td>\n",
       "      <td>1</td>\n",
       "      <td>0</td>\n",
       "      <td>0</td>\n",
       "      <td>0</td>\n",
       "      <td>2</td>\n",
       "      <td>0</td>\n",
       "      <td>1</td>\n",
       "      <td>1</td>\n",
       "    </tr>\n",
       "    <tr>\n",
       "      <th>686</th>\n",
       "      <td>15769980</td>\n",
       "      <td>1</td>\n",
       "      <td>20.67</td>\n",
       "      <td>0.415</td>\n",
       "      <td>2</td>\n",
       "      <td>8</td>\n",
       "      <td>4</td>\n",
       "      <td>0.125</td>\n",
       "      <td>0</td>\n",
       "      <td>0</td>\n",
       "      <td>0</td>\n",
       "      <td>0</td>\n",
       "      <td>2</td>\n",
       "      <td>0</td>\n",
       "      <td>45</td>\n",
       "      <td>0</td>\n",
       "    </tr>\n",
       "    <tr>\n",
       "      <th>687</th>\n",
       "      <td>15675450</td>\n",
       "      <td>0</td>\n",
       "      <td>18.83</td>\n",
       "      <td>9.540</td>\n",
       "      <td>2</td>\n",
       "      <td>6</td>\n",
       "      <td>4</td>\n",
       "      <td>0.085</td>\n",
       "      <td>1</td>\n",
       "      <td>0</td>\n",
       "      <td>0</td>\n",
       "      <td>0</td>\n",
       "      <td>2</td>\n",
       "      <td>100</td>\n",
       "      <td>1</td>\n",
       "      <td>1</td>\n",
       "    </tr>\n",
       "    <tr>\n",
       "      <th>688</th>\n",
       "      <td>15776494</td>\n",
       "      <td>0</td>\n",
       "      <td>27.42</td>\n",
       "      <td>14.500</td>\n",
       "      <td>2</td>\n",
       "      <td>14</td>\n",
       "      <td>8</td>\n",
       "      <td>3.085</td>\n",
       "      <td>1</td>\n",
       "      <td>1</td>\n",
       "      <td>1</td>\n",
       "      <td>0</td>\n",
       "      <td>2</td>\n",
       "      <td>120</td>\n",
       "      <td>12</td>\n",
       "      <td>1</td>\n",
       "    </tr>\n",
       "    <tr>\n",
       "      <th>689</th>\n",
       "      <td>15592412</td>\n",
       "      <td>1</td>\n",
       "      <td>41.00</td>\n",
       "      <td>0.040</td>\n",
       "      <td>2</td>\n",
       "      <td>10</td>\n",
       "      <td>4</td>\n",
       "      <td>0.040</td>\n",
       "      <td>0</td>\n",
       "      <td>1</td>\n",
       "      <td>1</td>\n",
       "      <td>0</td>\n",
       "      <td>1</td>\n",
       "      <td>560</td>\n",
       "      <td>1</td>\n",
       "      <td>1</td>\n",
       "    </tr>\n",
       "  </tbody>\n",
       "</table>\n",
       "</div>"
      ]
     },
     "execution_count": 17,
     "metadata": {},
     "output_type": "execute_result"
    }
   ],
   "execution_count": 17
  },
  {
   "metadata": {
    "id": "e89532afe6bd68db",
    "ExecuteTime": {
     "end_time": "2024-09-07T06:12:14.073173Z",
     "start_time": "2024-09-07T06:12:14.070230Z"
    }
   },
   "cell_type": "code",
   "source": [
    "X = dataset.iloc[:, 0:-1].values\n",
    "y = dataset.iloc[:, -1].values"
   ],
   "id": "e89532afe6bd68db",
   "outputs": [],
   "execution_count": 18
  },
  {
   "metadata": {
    "colab": {
     "base_uri": "https://localhost:8080/"
    },
    "id": "3d0691b42676c9a2",
    "outputId": "295e0504-c5f6-4c7f-9be8-bbb204204d3e",
    "ExecuteTime": {
     "end_time": "2024-09-07T06:12:14.116963Z",
     "start_time": "2024-09-07T06:12:14.111965Z"
    }
   },
   "cell_type": "code",
   "source": [
    "y"
   ],
   "id": "3d0691b42676c9a2",
   "outputs": [
    {
     "data": {
      "text/plain": [
       "array([0, 0, 0, 1, 1, 1, 0, 1, 0, 0, 1, 1, 0, 1, 0, 1, 1, 1, 0, 1, 0, 0,\n",
       "       0, 0, 0, 1, 0, 1, 1, 1, 1, 0, 0, 1, 0, 0, 1, 1, 1, 1, 1, 0, 1, 0,\n",
       "       0, 1, 0, 1, 0, 1, 0, 0, 0, 0, 0, 1, 1, 0, 1, 1, 0, 0, 1, 0, 1, 1,\n",
       "       0, 0, 0, 1, 0, 0, 0, 1, 1, 0, 0, 0, 0, 1, 1, 0, 0, 0, 0, 1, 0, 1,\n",
       "       1, 0, 0, 0, 0, 1, 0, 1, 0, 0, 0, 1, 0, 1, 1, 1, 0, 1, 1, 0, 1, 0,\n",
       "       0, 0, 0, 1, 0, 1, 1, 1, 1, 1, 1, 0, 0, 1, 1, 0, 1, 0, 1, 1, 1, 0,\n",
       "       0, 0, 0, 0, 0, 1, 1, 1, 0, 0, 0, 1, 0, 1, 1, 0, 0, 1, 1, 0, 0, 0,\n",
       "       1, 1, 1, 0, 1, 0, 0, 0, 1, 1, 0, 0, 0, 1, 0, 0, 0, 1, 0, 0, 1, 0,\n",
       "       0, 0, 1, 1, 0, 0, 1, 1, 1, 0, 0, 0, 0, 0, 0, 1, 0, 0, 0, 1, 1, 0,\n",
       "       0, 0, 1, 0, 1, 0, 1, 1, 0, 0, 0, 0, 1, 1, 0, 0, 0, 1, 0, 0, 0, 1,\n",
       "       1, 0, 1, 0, 0, 0, 0, 1, 1, 1, 1, 0, 0, 1, 1, 1, 0, 0, 0, 1, 1, 1,\n",
       "       1, 0, 0, 0, 0, 1, 1, 1, 0, 0, 1, 0, 1, 1, 1, 1, 0, 0, 0, 1, 0, 1,\n",
       "       1, 0, 0, 1, 0, 0, 0, 1, 0, 1, 1, 0, 0, 0, 1, 1, 0, 0, 0, 0, 0, 1,\n",
       "       1, 1, 0, 0, 0, 0, 1, 1, 1, 0, 0, 0, 1, 0, 1, 0, 0, 0, 0, 1, 0, 1,\n",
       "       0, 0, 0, 0, 0, 1, 1, 0, 0, 1, 0, 1, 1, 1, 1, 1, 1, 1, 0, 0, 0, 0,\n",
       "       1, 1, 1, 0, 0, 0, 1, 0, 1, 0, 0, 0, 1, 1, 1, 1, 1, 1, 1, 0, 1, 0,\n",
       "       1, 0, 0, 0, 0, 0, 1, 0, 1, 1, 0, 0, 0, 0, 0, 1, 0, 1, 1, 0, 0, 0,\n",
       "       1, 1, 1, 0, 0, 1, 1, 0, 0, 0, 1, 1, 0, 1, 1, 1, 1, 0, 0, 1, 1, 0,\n",
       "       0, 0, 0, 0, 0, 1, 0, 0, 0, 1, 1, 0, 1, 0, 0, 0, 1, 1, 1, 0, 0, 1,\n",
       "       0, 1, 1, 1, 0, 1, 0, 0, 1, 0, 0, 0, 1, 0, 0, 1, 0, 1, 0, 1, 1, 0,\n",
       "       1, 0, 0, 1, 0, 1, 1, 0, 0, 0, 0, 0, 1, 1, 0, 0, 1, 1, 0, 1, 0, 1,\n",
       "       0, 1, 0, 1, 1, 0, 1, 0, 1, 1, 1, 0, 0, 0, 0, 0, 1, 0, 1, 0, 0, 0,\n",
       "       1, 1, 1, 1, 1, 0, 1, 1, 0, 0, 0, 1, 1, 1, 1, 1, 1, 0, 1, 1, 1, 1,\n",
       "       0, 0, 0, 0, 0, 0, 0, 1, 0, 0, 1, 1, 1, 0, 1, 0, 0, 1, 1, 0, 1, 0,\n",
       "       0, 0, 0, 0, 0, 1, 0, 1, 0, 1, 1, 1, 0, 0, 1, 0, 0, 0, 0, 0, 0, 0,\n",
       "       1, 1, 0, 0, 0, 0, 0, 1, 0, 1, 0, 1, 0, 0, 1, 1, 1, 0, 0, 0, 0, 0,\n",
       "       1, 0, 1, 1, 0, 0, 0, 0, 0, 1, 1, 1, 0, 1, 0, 1, 1, 0, 0, 1, 0, 1,\n",
       "       0, 0, 1, 1, 0, 1, 0, 1, 1, 1, 1, 0, 0, 1, 0, 1, 1, 0, 1, 0, 1, 1,\n",
       "       0, 0, 0, 1, 0, 1, 1, 0, 1, 0, 0, 0, 0, 0, 1, 0, 1, 0, 0, 0, 0, 0,\n",
       "       0, 1, 0, 1, 1, 0, 0, 0, 0, 0, 0, 1, 1, 0, 0, 1, 0, 0, 1, 0, 0, 1,\n",
       "       1, 0, 1, 1, 0, 0, 0, 0, 0, 0, 1, 1, 0, 1, 1, 0, 0, 0, 0, 1, 0, 0,\n",
       "       1, 0, 1, 1, 0, 1, 1, 1], dtype=int64)"
      ]
     },
     "execution_count": 19,
     "metadata": {},
     "output_type": "execute_result"
    }
   ],
   "execution_count": 19
  },
  {
   "metadata": {
    "id": "6079648371ec2710",
    "ExecuteTime": {
     "end_time": "2024-09-07T06:12:14.271763Z",
     "start_time": "2024-09-07T06:12:14.267799Z"
    }
   },
   "cell_type": "code",
   "source": [
    "from sklearn.preprocessing import MinMaxScaler\n",
    "sc = MinMaxScaler(feature_range=(0, 1))\n",
    "X = sc.fit_transform(X)"
   ],
   "id": "6079648371ec2710",
   "outputs": [],
   "execution_count": 20
  },
  {
   "metadata": {
    "colab": {
     "base_uri": "https://localhost:8080/"
    },
    "id": "d93437661978a85b",
    "outputId": "d203e33e-cf0f-4154-fe92-f76fb6c8c501",
    "ExecuteTime": {
     "end_time": "2024-09-07T06:12:16.180705Z",
     "start_time": "2024-09-07T06:12:14.343786Z"
    }
   },
   "cell_type": "code",
   "source": [
    "!pip install scikit-learn"
   ],
   "id": "d93437661978a85b",
   "outputs": [
    {
     "name": "stdout",
     "output_type": "stream",
     "text": [
      "Requirement already satisfied: scikit-learn in d:\\python\\venv\\lib\\site-packages (1.5.1)\n",
      "Requirement already satisfied: numpy>=1.19.5 in d:\\python\\venv\\lib\\site-packages (from scikit-learn) (1.26.4)\n",
      "Requirement already satisfied: scipy>=1.6.0 in d:\\python\\venv\\lib\\site-packages (from scikit-learn) (1.14.1)\n",
      "Requirement already satisfied: joblib>=1.2.0 in d:\\python\\venv\\lib\\site-packages (from scikit-learn) (1.4.2)\n",
      "Requirement already satisfied: threadpoolctl>=3.1.0 in d:\\python\\venv\\lib\\site-packages (from scikit-learn) (3.5.0)\n"
     ]
    },
    {
     "name": "stderr",
     "output_type": "stream",
     "text": [
      "\n",
      "[notice] A new release of pip is available: 23.2.1 -> 24.2\n",
      "[notice] To update, run: python.exe -m pip install --upgrade pip\n"
     ]
    }
   ],
   "execution_count": 21
  },
  {
   "cell_type": "code",
   "source": [
    "!pip install minisom"
   ],
   "metadata": {
    "colab": {
     "base_uri": "https://localhost:8080/"
    },
    "id": "Dltra_Wn18ah",
    "outputId": "2f5637f4-ef06-40a6-e671-b67313783634",
    "ExecuteTime": {
     "end_time": "2024-09-07T06:12:17.791004Z",
     "start_time": "2024-09-07T06:12:16.249157Z"
    }
   },
   "id": "Dltra_Wn18ah",
   "outputs": [
    {
     "name": "stdout",
     "output_type": "stream",
     "text": [
      "Requirement already satisfied: minisom in d:\\python\\venv\\lib\\site-packages (2.3.3)\n"
     ]
    },
    {
     "name": "stderr",
     "output_type": "stream",
     "text": [
      "\n",
      "[notice] A new release of pip is available: 23.2.1 -> 24.2\n",
      "[notice] To update, run: python.exe -m pip install --upgrade pip\n"
     ]
    }
   ],
   "execution_count": 22
  },
  {
   "metadata": {
    "id": "e5ed194f497a1e88",
    "ExecuteTime": {
     "end_time": "2024-09-07T06:12:18.081043Z",
     "start_time": "2024-09-07T06:12:17.859366Z"
    }
   },
   "cell_type": "code",
   "source": [
    "from minisom import MiniSom\n",
    "# สร้าง SOM และปรับพารามิเตอร์เพื่อเพิ่มการตรวจจับ Outliers\n",
    "som = MiniSom(x=30, y=15, input_len=15, sigma=3.5, learning_rate=0.02)\n",
    "som.random_weights_init(X)\n",
    "som.train_random(data=X, num_iteration=3000)\n"
   ],
   "id": "e5ed194f497a1e88",
   "outputs": [],
   "execution_count": 23
  },
  {
   "metadata": {
    "id": "d262115ae30e5472"
   },
   "cell_type": "markdown",
   "source": [
    "#find winner"
   ],
   "id": "d262115ae30e5472"
  },
  {
   "metadata": {
    "colab": {
     "base_uri": "https://localhost:8080/",
     "height": 1000
    },
    "id": "e076dd3ac385ba51",
    "outputId": "fa0ac7ff-0cb2-4200-e981-fd36bcdbdcb8",
    "ExecuteTime": {
     "end_time": "2024-09-07T06:12:18.734630Z",
     "start_time": "2024-09-07T06:12:18.150606Z"
    }
   },
   "cell_type": "code",
   "source": [
    "from pylab import bone, pcolor, colorbar, plot, show\n",
    "\n",
    "# Visualizing the SOM\n",
    "bone()\n",
    "pcolor(som.distance_map().T)\n",
    "colorbar()\n",
    "\n",
    "# Define markers and colors\n",
    "markers = ['o', 's']\n",
    "colors = ['r', 'g']\n",
    "\n",
    "# Loop through each input data point\n",
    "for i, x in enumerate(X):\n",
    "    w = som.winner(x)\n",
    "    plot(w[0] + 0.5, w[1] + 0.5,\n",
    "         markers[y[i]],\n",
    "         markeredgecolor=colors[y[i]],\n",
    "         markerfacecolor='None',\n",
    "         markersize=10,\n",
    "         markeredgewidth=2)\n",
    "\n",
    "show()\n",
    "\n",
    "# แสดงผลแผนที่ระยะห่าง (U-Matrix)\n",
    "plt.figure(figsize=(12, 8))\n",
    "plt.pcolor(som.distance_map().T, cmap='coolwarm')  # ใช้สี coolwarm เพื่อเน้นเซลล์สีขาว\n",
    "plt.colorbar()\n",
    "plt.title('SOM Distance Map')\n",
    "plt.show()"
   ],
   "id": "e076dd3ac385ba51",
   "outputs": [
    {
     "data": {
      "text/plain": [
       "<Figure size 640x480 with 2 Axes>"
      ],
      "image/png": "[encoded data removed]"
     },
     "metadata": {},
     "output_type": "display_data"
    },
    {
     "data": {
      "text/plain": [
       "<Figure size 1200x800 with 2 Axes>"
      ],
      "image/png": "[encoded data removed]"
     },
     "metadata": {},
     "output_type": "display_data"
    }
   ],
   "execution_count": 24
  },
  {
   "cell_type": "code",
   "source": [
    "mappings = som.win_map(X)\n",
    "\n",
    "# ตรวจสอบว่ามีข้อมูลในตำแหน่ง (0, 4) หรือไม่\n",
    "if (0, 4) in mappings and len(mappings[(0, 4)]) > 0:\n",
    "    # รวมข้อมูลในตำแหน่ง (0, 4)\n",
    "    frauds = np.concatenate(mappings[(0, 4)], axis=0)  # ใช้ axis=0 หรือไม่ระบุ axis\n",
    "\n",
    "    # ปรับให้ข้อมูลเป็นรูปแบบ 2D\n",
    "    frauds = frauds.reshape(-1, X.shape[1])\n",
    "\n",
    "    # แปลงข้อมูลกลับสู่ขนาดต้นฉบับ\n",
    "    frauds = sc.inverse_transform(frauds)\n",
    "    print(frauds)\n",
    "else:\n",
    "    print(\"ไม่มีข้อมูลในตำแหน่ง (0, 4) บนแผนที่ SOM\")\n",
    "\n"
   ],
   "metadata": {
    "id": "Axt2tqkQ_5MR",
    "outputId": "98213207-0a41-4dee-cd9b-6f06d63a3ae8",
    "colab": {
     "base_uri": "https://localhost:8080/"
    },
    "ExecuteTime": {
     "end_time": "2024-09-07T06:12:18.828915Z",
     "start_time": "2024-09-07T06:12:18.808628Z"
    }
   },
   "id": "Axt2tqkQ_5MR",
   "outputs": [
    {
     "name": "stdout",
     "output_type": "stream",
     "text": [
      "ไม่มีข้อมูลในตำแหน่ง (0, 4) บนแผนที่ SOM\n"
     ]
    }
   ],
   "execution_count": 25
  },
  {
   "cell_type": "code",
   "source": [
    "# สร้าง mappings ของแต่ละเซลล์ใน SOM\n",
    "mappings = som.win_map(X)\n",
    "outliers = []\n",
    "\n",
    "# ตรวจจับ Outliers โดยหาค่าที่มีจำนวนข้อมูลเพียง 1 ค่าในเซลล์นั้น\n",
    "for coord, values in mappings.items():\n",
    "    if len(values) == 1:  # เซลล์ที่มีค่าเดียวถือว่าเป็น Outlier\n",
    "        outliers.append(values[0])\n",
    "\n",
    "# แปลง outliers จาก numpy array กลับเป็น DataFrame เพื่อตรวจสอบ CustomerID\n",
    "outlier_indices = [i for i, x in enumerate(X) if any(np.all(x == outlier) for outlier in outliers)]  # Remove axis=1\n",
    "outlier_ids = dataset.iloc[outlier_indices, 0].values  # ดึง CustomerID จาก index ที่เป็น outliers\n",
    "\n",
    "# แสดงผล CustomerIDs ที่ได้รับบัตรเครติดโดยผิดเงื่อนไข\n",
    "print(\"CustomerIDs ที่ได้รับบัตรเครติดโดยผิดเงื่อนไข:\")\n",
    "print(outlier_ids)\n",
    "\n",
    "# สรุปจำนวน Outliers\n",
    "num_outliers = len(outlier_ids)\n",
    "print(f\"จำนวน CustomerIDs ที่ได้รับบัตรเครติดโดยผิดเงื่อนไขทั้งหมด: {num_outliers} คน\")\n"
   ],
   "metadata": {
    "colab": {
     "base_uri": "https://localhost:8080/"
    },
    "id": "7FIc1E8U65Dr",
    "outputId": "c3a740e7-5e12-4543-9f2d-1ab0f1b1147a",
    "ExecuteTime": {
     "end_time": "2024-09-07T06:12:19.025915Z",
     "start_time": "2024-09-07T06:12:18.967042Z"
    }
   },
   "id": "7FIc1E8U65Dr",
   "outputs": [
    {
     "name": "stdout",
     "output_type": "stream",
     "text": [
      "CustomerIDs ที่ได้รับบัตรเครติดโดยผิดเงื่อนไข:\n",
      "[15590434 15761158 15577515 15591010 15664615 15768474 15605872 15671293\n",
      " 15636626 15636562 15593694 15785705 15793896 15654760 15594651]\n",
      "จำนวน CustomerIDs ที่ได้รับบัตรเครติดโดยผิดเงื่อนไขทั้งหมด: 15 คน\n"
     ]
    }
   ],
   "execution_count": 26
  },
  {
   "cell_type": "code",
   "source": [
    "# คำนวณค่า U-Matrix (ระยะห่างระหว่างโหนด)\n",
    "u_matrix = som.distance_map()\n",
    "\n",
    "# ปรับค่า threshold ให้ต่ำลง\n",
    "threshold = 0.25  # ลด threshold เพื่อตรวจจับเซลล์ที่มีระยะห่างมากขึ้น\n",
    "white_cells_customer_ids = []\n",
    "\n",
    "for coord, values in mappings.items():\n",
    "    if u_matrix[coord] >= threshold:  # ตรวจสอบระยะห่างจาก U-Matrix\n",
    "        for value in values:\n",
    "            customer_idx = np.where(np.all(X == value, axis=1))[0]\n",
    "            white_cells_customer_ids.extend(dataset.iloc[customer_idx, 0].values)\n",
    "\n",
    "# แสดงผล CustomerIDs ที่อยู่ในเซลล์สีขาว (Outliers)\n",
    "print(\"CustomerIDs ที่อยู่ในเซลล์สีขาว (Outliers):\")\n",
    "\n",
    "# จัดรูปแบบการแสดงผล CustomerIDs โดยแสดงเป็นแถวละ 15 ค่า\n",
    "for i in range(0, len(white_cells_customer_ids), 15):\n",
    "    print(white_cells_customer_ids[i:i+15])\n",
    "\n",
    "# สรุปจำนวน CustomerIDs ที่อยู่ในเซลล์สีขาว\n",
    "print(f\"จำนวน CustomerIDs ที่อยู่ในเซลล์สีขาวทั้งหมด: {len(white_cells_customer_ids)} คน\")\n"
   ],
   "metadata": {
    "id": "masU8cZNrEZp",
    "outputId": "28decd4e-21e6-4bad-bfed-06124f6a83c8",
    "colab": {
     "base_uri": "https://localhost:8080/"
    },
    "ExecuteTime": {
     "end_time": "2024-09-07T06:12:19.119721Z",
     "start_time": "2024-09-07T06:12:19.034669Z"
    }
   },
   "id": "masU8cZNrEZp",
   "outputs": [
    {
     "name": "stdout",
     "output_type": "stream",
     "text": [
      "CustomerIDs ที่อยู่ในเซลล์สีขาว (Outliers):\n",
      "[15662854, 15610042, 15568162, 15745375, 15638983, 15654625, 15662152, 15623210, 15734578, 15570508, 15795527, 15641733, 15660144, 15603565, 15802869]\n",
      "[15664720, 15627328, 15645820, 15800554, 15617991, 15696120, 15750545, 15567919, 15687634, 15638751, 15641007, 15665014, 15606554, 15687688, 15638610]\n",
      "[15789611, 15668679, 15738487, 15649160, 15773421, 15682686, 15781875, 15621244, 15636521, 15632789, 15761554, 15707602, 15815095, 15720725, 15567834]\n",
      "[15591035, 15672912, 15694677, 15598614, 15608804, 15631267, 15611189, 15759387, 15712483, 15572361, 15698522, 15715750, 15789201, 15723884, 15735837]\n",
      "[15778290, 15751137, 15704315, 15800049, 15801817, 15796787, 15725002, 15707681, 15701738, 15690169, 15571121, 15660390, 15682576, 15642391, 15598802]\n",
      "[15705343, 15657778, 15652658, 15635244, 15688264, 15648876, 15679394, 15746258, 15644878, 15671987, 15581700, 15629133, 15604963, 15726466, 15692408]\n",
      "[15694530, 15667451, 15763108, 15704509, 15730287, 15720353, 15736510, 15708236, 15686670, 15617065, 15736420, 15624850, 15765093, 15632275, 15737542]\n",
      "[15615176, 15656417, 15748691, 15748986, 15727811, 15665590, 15652667, 15663942, 15767729, 15711446, 15720529, 15787693, 15688210, 15793366, 15728906]\n",
      "[15793317, 15735106, 15692430, 15683276, 15729377, 15768777, 15791326, 15649101, 15643574, 15779586, 15730150, 15644446, 15803378, 15714087, 15672432]\n",
      "[15730793, 15788776, 15765257, 15764226, 15767231, 15746995, 15762716, 15706464, 15764444, 15731989, 15761047, 15671534, 15721569, 15771409, 15814116]\n",
      "[15777893, 15674750, 15585892, 15583680, 15654859, 15566495, 15667460, 15569394, 15609356, 15588123, 15572390, 15575243, 15663194, 15631693, 15586174]\n",
      "[15613699, 15599440, 15615832, 15681509, 15620832, 15683168, 15618410, 15678882, 15774262, 15638989, 15690492, 15638871, 15607746, 15687527, 15717065]\n",
      "[15605341, 15580366, 15649430, 15595010, 15583552, 15790254, 15768600, 15748552, 15801441, 15708714, 15788131, 15771856, 15808023, 15808386, 15764841]\n",
      "[15729718, 15786539, 15786237, 15767358, 15567839, 15671014, 15642336, 15740487, 15811742, 15702571, 15622083, 15646190, 15715907, 15768342, 15748532]\n",
      "[15689692, 15672357, 15788634, 15796813, 15731166, 15649379, 15729771, 15721507, 15605791, 15571415, 15565714, 15565996, 15581871, 15620103, 15642063]\n",
      "[15588019, 15575146, 15611794, 15580914, 15607986, 15578722, 15591107, 15813718, 15744273, 15773934, 15805627, 15757933, 15810716, 15767264, 15761854]\n",
      "[15815040, 15788442, 15801072, 15647295, 15686461, 15684512, 15680643, 15692137, 15668830, 15691150, 15573520, 15585928, 15676909, 15647898, 15679801]\n",
      "[15569682, 15587038, 15781975, 15631685, 15614813, 15571081, 15625501, 15630592, 15589541, 15598574, 15655658, 15681755, 15603683, 15643056, 15659100]\n",
      "[15596165, 15690153, 15631451, 15632503, 15680901, 15795690, 15711635, 15764922, 15673747, 15765487, 15754578, 15657228, 15575430, 15569917, 15713250]\n",
      "[15710138, 15679622, 15660871, 15711977, 15753591, 15797246, 15701687, 15751167, 15778142, 15812918, 15715519, 15812766, 15757306, 15808223, 15617348]\n",
      "[15682860, 15621423, 15637891, 15627190, 15568878, 15605276, 15704581, 15725776, 15697460, 15737998, 15586183, 15718921, 15633944, 15607988, 15683993]\n",
      "[15797767, 15744044, 15632010, 15804235, 15627365, 15573798, 15700300, 15791944, 15576680, 15620570, 15592412, 15737627, 15709459, 15752139, 15766906]\n",
      "[15655464, 15723989, 15698271, 15699340, 15608688, 15609070, 15650313, 15798895, 15732884, 15644400, 15684440, 15706637, 15730673, 15813363, 15726167]\n",
      "[15779492, 15742297, 15700549, 15707042, 15645571, 15778589, 15735221, 15782089, 15702030, 15741633, 15666297, 15769980, 15757467, 15748432, 15699963]\n",
      "[15696287, 15698749, 15815271, 15789865, 15671769, 15750921, 15728010, 15689268, 15744423, 15706394, 15594305, 15664793, 15670029, 15662189, 15568469]\n",
      "[15586479, 15717700, 15705379, 15646535, 15766183, 15684722, 15772329, 15734649, 15646082, 15717629, 15757188, 15604536, 15635598, 15647191, 15776545]\n",
      "[15623369, 15650591, 15633608, 15675450, 15777994, 15597536, 15697310, 15571284, 15810723, 15570947, 15766663, 15592326, 15697844, 15733602, 15706602]\n",
      "[15728082, 15675176, 15693382, 15768449, 15752601, 15665374, 15740356, 15608595, 15719940, 15711742, 15761733, 15770995, 15666166, 15736399, 15766734]\n",
      "[15667934, 15665087, 15667588, 15775750, 15690372, 15775235, 15780088, 15762045, 15750476, 15799859, 15646563, 15789014, 15652048, 15585855, 15661412]\n",
      "[15799785, 15602456, 15575605, 15577771, 15599272, 15796569, 15805212, 15785339, 15740458, 15686885, 15680895, 15716276, 15807546, 15773869, 15796111]\n",
      "[15809800, 15802071, 15790630, 15750055, 15803682, 15770406, 15732943, 15770255, 15773789, 15794868, 15762392, 15705506, 15812470, 15674583, 15788215]\n",
      "[15699294, 15722535, 15590434, 15651868, 15716082, 15651460, 15672637, 15752344, 15736533, 15779207, 15611409, 15636454, 15615296, 15815443, 15795079]\n",
      "[15773776, 15778345, 15791769, 15776494, 15808662, 15748649, 15792107, 15813192, 15809837, 15811690, 15772941, 15761158, 15577515, 15723827, 15725028]\n",
      "[15712877, 15678210, 15583067, 15623072, 15748499, 15592773, 15588854, 15591010, 15587297, 15700046, 15569595, 15587443, 15682540, 15711249, 15665181]\n",
      "[15664615, 15570990, 15618703, 15800773, 15711759, 15694237, 15692718, 15677395, 15583724, 15609823, 15594133, 15706268, 15653147, 15735572, 15802106]\n",
      "[15784526, 15687765, 15658504, 15769356, 15624595, 15720644, 15700511, 15763579, 15793825, 15782159, 15749964, 15579583, 15593345, 15591360, 15649183]\n",
      "[15589881, 15598266, 15580579, 15568819, 15611973, 15638272, 15652289, 15600027, 15678779, 15768474, 15696361, 15750104, 15605872, 15641715, 15622507]\n",
      "[15671293, 15636626, 15636562, 15593694, 15785367, 15781574, 15785705, 15793896, 15654760, 15594651]\n",
      "จำนวน CustomerIDs ที่อยู่ในเซลล์สีขาวทั้งหมด: 565 คน\n"
     ]
    }
   ],
   "execution_count": 27
  },
  {
   "cell_type": "code",
   "source": [
    "import matplotlib.pyplot as plt\n",
    "# ตรวจสอบตำแหน่งที่มีข้อมูลใน SOM\n",
    "mappings = som.win_map(X)\n",
    "\n",
    "# ตรวจสอบว่าข้อมูลในเซลล์ใดมีลักษณะผิดปกติ\n",
    "for position, values in mappings.items():\n",
    "    if len(values) == 1:  # ถ้าเซลล์นี้มีข้อมูลเพียงค่าเดียว (ถือว่าเป็น outlier)\n",
    "        print(f\"ตำแหน่ง {position}\")\n",
    "        print(f\"มีข้อมูลผิดปกติ: {values}\")\n"
   ],
   "metadata": {
    "id": "nZH6of67CBLK",
    "outputId": "44e5c5cf-f10e-45c0-9030-e97a7d632413",
    "colab": {
     "base_uri": "https://localhost:8080/"
    },
    "ExecuteTime": {
     "end_time": "2024-09-07T06:12:19.218384Z",
     "start_time": "2024-09-07T06:12:19.196409Z"
    }
   },
   "id": "nZH6of67CBLK",
   "outputs": [
    {
     "name": "stdout",
     "output_type": "stream",
     "text": [
      "ตำแหน่ง (7, 4)\n",
      "มีข้อมูลผิดปกติ: [array([0.0989873 , 0.        , 0.16917293, 0.03125   , 0.5       ,\n",
      "       1.        , 0.875     , 0.03649123, 1.        , 0.        ,\n",
      "       0.        , 1.        , 0.5       , 0.08      , 0.0586    ])]\n",
      "ตำแหน่ง (2, 6)\n",
      "มีข้อมูลผิดปกติ: [array([7.82624365e-01, 0.00000000e+00, 4.13533835e-02, 4.46428571e-02,\n",
      "       5.00000000e-01, 7.69230769e-01, 3.75000000e-01, 8.77192982e-03,\n",
      "       0.00000000e+00, 1.00000000e+00, 1.49253731e-02, 0.00000000e+00,\n",
      "       5.00000000e-01, 5.40000000e-02, 9.80000000e-04])]\n",
      "ตำแหน่ง (28, 14)\n",
      "มีข้อมูลผิดปกติ: [array([0.04725522, 0.        , 0.82586466, 0.53571429, 0.5       ,\n",
      "       0.69230769, 1.        , 0.        , 1.        , 1.        ,\n",
      "       0.20895522, 0.        , 0.5       , 0.        , 0.03376   ])]\n",
      "ตำแหน่ง (1, 5)\n",
      "มีข้อมูลผิดปกติ: [array([0.1012938 , 1.        , 0.5124812 , 0.14875   , 0.5       ,\n",
      "       1.        , 0.5       , 0.00298246, 0.        , 0.        ,\n",
      "       0.        , 1.        , 0.5       , 0.26      , 0.        ])]\n",
      "ตำแหน่ง (16, 13)\n",
      "มีข้อมูลผิดปกติ: [array([0.3960333 , 1.        , 0.29203008, 0.03714286, 0.5       ,\n",
      "       0.84615385, 0.875     , 0.22807018, 1.        , 0.        ,\n",
      "       0.        , 1.        , 0.5       , 0.082     , 0.31285   ])]\n",
      "ตำแหน่ง (21, 11)\n",
      "มีข้อมูลผิดปกติ: [array([8.11920121e-01, 1.00000000e+00, 1.22857143e-01, 1.92857143e-02,\n",
      "       0.00000000e+00, 1.00000000e+00, 3.75000000e-01, 1.40350877e-03,\n",
      "       1.00000000e+00, 1.00000000e+00, 1.49253731e-02, 1.00000000e+00,\n",
      "       5.00000000e-01, 4.20000000e-01, 5.90000000e-04])]\n",
      "ตำแหน่ง (29, 12)\n",
      "มีข้อมูลผิดปกติ: [array([1.60806314e-01, 0.00000000e+00, 8.76691729e-02, 2.37500000e-02,\n",
      "       0.00000000e+00, 5.38461538e-01, 3.75000000e-01, 3.50877193e-02,\n",
      "       0.00000000e+00, 1.00000000e+00, 1.49253731e-02, 0.00000000e+00,\n",
      "       5.00000000e-01, 1.00000000e+00, 2.00000000e-05])]\n",
      "ตำแหน่ง (17, 3)\n",
      "มีข้อมูลผิดปกติ: [array([0.42277429, 1.        , 0.61774436, 0.55357143, 0.5       ,\n",
      "       0.69230769, 1.        , 0.        , 1.        , 1.        ,\n",
      "       0.29850746, 0.        , 0.5       , 0.076     , 0.0013    ])]\n",
      "ตำแหน่ง (9, 8)\n",
      "มีข้อมูลผิดปกติ: [array([2.83955808e-01, 1.00000000e+00, 7.36842105e-01, 2.50000000e-01,\n",
      "       5.00000000e-01, 6.92307692e-01, 1.00000000e+00, 0.00000000e+00,\n",
      "       0.00000000e+00, 0.00000000e+00, 0.00000000e+00, 0.00000000e+00,\n",
      "       5.00000000e-01, 0.00000000e+00, 1.20000000e-04])]\n",
      "ตำแหน่ง (14, 9)\n",
      "มีข้อมูลผิดปกติ: [array([0.28369953, 1.        , 0.42481203, 0.00732143, 0.5       ,\n",
      "       0.15384615, 0.875     , 0.17982456, 1.        , 0.        ,\n",
      "       0.        , 0.        , 0.5       , 0.2       , 0.        ])]\n",
      "ตำแหน่ง (17, 9)\n",
      "มีข้อมูลผิดปกติ: [array([0.11204145, 1.        , 0.63413534, 0.41071429, 0.5       ,\n",
      "       0.        , 0.        , 0.1754386 , 1.        , 1.        ,\n",
      "       0.07462687, 0.        , 0.5       , 0.        , 0.08851   ])]\n",
      "ตำแหน่ง (21, 2)\n",
      "มีข้อมูลผิดปกติ: [array([8.80918916e-01, 1.00000000e+00, 6.87969925e-01, 9.82142857e-02,\n",
      "       5.00000000e-01, 6.15384615e-01, 3.75000000e-01, 6.14035088e-02,\n",
      "       1.00000000e+00, 1.00000000e+00, 7.46268657e-02, 1.00000000e+00,\n",
      "       5.00000000e-01, 3.00000000e-02, 5.80000000e-04])]\n",
      "ตำแหน่ง (5, 0)\n",
      "มีข้อมูลผิดปกติ: [array([0.91371847, 0.        , 0.2206015 , 0.125     , 0.5       ,\n",
      "       0.61538462, 0.375     , 0.02929825, 1.        , 0.        ,\n",
      "       0.        , 0.        , 0.        , 0.14      , 0.        ])]\n",
      "ตำแหน่ง (10, 8)\n",
      "มีข้อมูลผิดปกติ: [array([0.35657052, 1.        , 0.15037594, 0.42857143, 0.5       ,\n",
      "       0.53846154, 0.375     , 0.07315789, 0.        , 0.        ,\n",
      "       0.        , 0.        , 0.        , 0.04      , 0.        ])]\n",
      "ตำแหน่ง (20, 6)\n",
      "มีข้อมูลผิดปกติ: [array([0.11587361, 1.        , 0.29203008, 0.11303571, 0.        ,\n",
      "       1.        , 0.375     , 0.11105263, 1.        , 1.        ,\n",
      "       0.04477612, 1.        , 0.5       , 0.19      , 0.        ])]\n"
     ]
    }
   ],
   "execution_count": 28
  },
  {
   "metadata": {
    "ExecuteTime": {
     "end_time": "2024-09-07T06:12:19.289711Z",
     "start_time": "2024-09-07T06:12:19.287111Z"
    }
   },
   "cell_type": "code",
   "source": "",
   "id": "8e83242e50165905",
   "outputs": [],
   "execution_count": null
  }
 ],
 "metadata": {
  "kernelspec": {
   "display_name": "Python 3",
   "language": "python",
   "name": "python3"
  },
  "language_info": {
   "codemirror_mode": {
    "name": "ipython",
    "version": 2
   },
   "file_extension": ".py",
   "mimetype": "text/x-python",
   "name": "python",
   "nbconvert_exporter": "python",
   "pygments_lexer": "ipython2",
   "version": "2.7.6"
  },
  "colab": {
   "provenance": []
  }
 },
 "nbformat": 4,
 "nbformat_minor": 5
}
